{
  "nbformat": 4,
  "nbformat_minor": 0,
  "metadata": {
    "colab": {
      "provenance": [],
      "authorship_tag": "ABX9TyNPN5RWxuyeHZ66ZAeSlUa+",
      "include_colab_link": true
    },
    "kernelspec": {
      "name": "python3",
      "display_name": "Python 3"
    },
    "language_info": {
      "name": "python"
    }
  },
  "cells": [
    {
      "cell_type": "markdown",
      "metadata": {
        "id": "view-in-github",
        "colab_type": "text"
      },
      "source": [
        "<a href=\"https://colab.research.google.com/github/Nhatty1788/NatnaelMolago_DTSC3020_Fall2025/blob/main/assignment2_nsm0128.ipynb\" target=\"_parent\"><img src=\"https://colab.research.google.com/assets/colab-badge.svg\" alt=\"Open In Colab\"/></a>"
      ]
    },
    {
      "cell_type": "code",
      "execution_count": null,
      "metadata": {
        "colab": {
          "base_uri": "https://localhost:8080/"
        },
        "id": "jSrJQQwAcRZz",
        "outputId": "828d4de6-0038-4650-fd89-f269a5b2d8b0"
      },
      "outputs": [
        {
          "output_type": "stream",
          "name": "stdout",
          "text": [
            "['apple', 'banana', 'orange']\n",
            "apple\n",
            "banana\n",
            "orange\n"
          ]
        }
      ],
      "source": [
        "# List with 3 fruits\n",
        "fruits = [\"apple\", \"banana\", \"orange\"]\n",
        "\n",
        "# Print the entire list\n",
        "print(fruits)\n",
        "\n",
        "# Print each item separately\n",
        "print(fruits[0])\n",
        "print(fruits[1])\n",
        "print(fruits[2])"
      ]
    },
    {
      "cell_type": "code",
      "source": [
        "# List with 4 names\n",
        "names = [\"natnael\", \"eleni\", \"meron\", \"alemitu\"]\n",
        "\n",
        "# Change the first name to a different one and print the updated list\n",
        "names[0] = \"sani\"\n",
        "print(names)"
      ],
      "metadata": {
        "colab": {
          "base_uri": "https://localhost:8080/"
        },
        "id": "Ih1rls7jdl8N",
        "outputId": "c9f91a90-ba99-465a-d4cd-a14e0df2d6a4"
      },
      "execution_count": null,
      "outputs": [
        {
          "output_type": "stream",
          "name": "stdout",
          "text": [
            "['sani', 'eleni', 'meron', 'alemitu']\n"
          ]
        }
      ]
    },
    {
      "cell_type": "code",
      "source": [
        "# List with 5 vehicles\n",
        "vehicles = [\"car\", \"bus\", \"bike\", \"train\", \"plane\"]\n",
        "\n",
        "# Add one more vehicle and print\n",
        "vehicles.append(\"truck\")\n",
        "print(vehicles)"
      ],
      "metadata": {
        "colab": {
          "base_uri": "https://localhost:8080/"
        },
        "id": "viGmQJxD_UcJ",
        "outputId": "71f92cb1-54e2-4aed-e98d-046d3787cceb"
      },
      "execution_count": null,
      "outputs": [
        {
          "output_type": "stream",
          "name": "stdout",
          "text": [
            "['car', 'bus', 'bike', 'train', 'plane', 'truck']\n"
          ]
        }
      ]
    },
    {
      "cell_type": "code",
      "source": [
        "# List with 6 foods\n",
        "foods = [\"tacos\", \"burger\", \"pasta\", \"steak\", \"wings\", \"sandwich\"]\n",
        "\n",
        "# Remove one food and print the new list\n",
        "foods.remove(\"burger\")\n",
        "print(foods)"
      ],
      "metadata": {
        "id": "hsCmRsuwINuY",
        "colab": {
          "base_uri": "https://localhost:8080/"
        },
        "outputId": "9309d8b9-9639-4f94-a3ad-c5189a3ae0d4"
      },
      "execution_count": 1,
      "outputs": [
        {
          "output_type": "stream",
          "name": "stdout",
          "text": [
            "['tacos', 'pasta', 'steak', 'wings', 'sandwich']\n"
          ]
        }
      ]
    },
    {
      "cell_type": "code",
      "source": [
        "# List with 4 cities\n",
        "cities = [\"dallas\", \"forney\", \"houston\", \"mesquite\"]\n",
        "\n",
        "# Sort alphabetically and print\n",
        "cities.sort()\n",
        "print(\"Sorted:\", cities)\n",
        "\n",
        "# Reverse the list annd print\n",
        "cities.reverse()\n",
        "print(\"Reversed:\", cities)"
      ],
      "metadata": {
        "id": "bXwjZGlVITIP",
        "colab": {
          "base_uri": "https://localhost:8080/"
        },
        "outputId": "e2652bb1-d15a-4299-9975-2de2308d1cda"
      },
      "execution_count": null,
      "outputs": [
        {
          "output_type": "stream",
          "name": "stdout",
          "text": [
            "Sorted: ['dallas', 'forney', 'houston', 'mesquite']\n",
            "Reversed: ['mesquite', 'houston', 'forney', 'dallas']\n"
          ]
        }
      ]
    },
    {
      "cell_type": "code",
      "source": [
        "# List with 3 animals\n",
        "animals = [\"dog\", \"rat\", \"panda\"]\n",
        "\n",
        "# Loops to print each animals\n",
        "for animal in animals:\n",
        "    print(animal)"
      ],
      "metadata": {
        "id": "iCahW65YIaKo",
        "colab": {
          "base_uri": "https://localhost:8080/"
        },
        "outputId": "8f16e104-a385-4cb2-e563-d830c4513be0"
      },
      "execution_count": 2,
      "outputs": [
        {
          "output_type": "stream",
          "name": "stdout",
          "text": [
            "dog\n",
            "rat\n",
            "panda\n"
          ]
        }
      ]
    },
    {
      "cell_type": "code",
      "source": [
        "# List with numbers from 1 to 5\n",
        "numbers = [1, 2, 3, 4, 5]\n",
        "\n",
        "# Loops to print each numbers multiplied by 2\n",
        "for num in numbers:\n",
        "    print(num * 2)"
      ],
      "metadata": {
        "colab": {
          "base_uri": "https://localhost:8080/"
        },
        "id": "kWxBzDMiBIaJ",
        "outputId": "e8fb0d3f-e767-4e54-d61a-7a11bd064604"
      },
      "execution_count": null,
      "outputs": [
        {
          "output_type": "stream",
          "name": "stdout",
          "text": [
            "2\n",
            "4\n",
            "6\n",
            "8\n",
            "10\n"
          ]
        }
      ]
    },
    {
      "cell_type": "code",
      "source": [
        "# List with 6 friends\n",
        "friends = [\"natnael\", \"sani\", \"mahsen\", \"mensur\", \"abel\", \"kaleb\"]\n",
        "\n",
        "# Print the first three friends\n",
        "print(friends[:3])\n",
        "\n",
        "# Print the last three friends\n",
        "print(friends[3:])"
      ],
      "metadata": {
        "colab": {
          "base_uri": "https://localhost:8080/"
        },
        "id": "sNGR6wW8CFYd",
        "outputId": "9f730526-58e3-4ccd-a282-95a913c592a5"
      },
      "execution_count": null,
      "outputs": [
        {
          "output_type": "stream",
          "name": "stdout",
          "text": [
            "['natnael', 'sani', 'mahsen']\n",
            "['mensur', 'abel', 'kaleb']\n"
          ]
        }
      ]
    },
    {
      "cell_type": "code",
      "source": [
        "# Use range() to create a list with numbers from 1 to 10\n",
        "numbers = list(range(1, 11))\n",
        "\n",
        "# Print the list\n",
        "print(numbers)"
      ],
      "metadata": {
        "colab": {
          "base_uri": "https://localhost:8080/"
        },
        "id": "3vPqTAwUD5WB",
        "outputId": "cafa9601-f7fd-40e9-b4b6-3ef62ae01fa4"
      },
      "execution_count": null,
      "outputs": [
        {
          "output_type": "stream",
          "name": "stdout",
          "text": [
            "[1, 2, 3, 4, 5, 6, 7, 8, 9, 10]\n"
          ]
        }
      ]
    },
    {
      "cell_type": "code",
      "source": [
        "# Use list comprehension to create a list with the squares of numbers from 1 to 5.\n",
        "squares = [x** 2 for x in range(1, 6)]\n",
        "\n",
        "# Print the list\n",
        "print(squares)"
      ],
      "metadata": {
        "colab": {
          "base_uri": "https://localhost:8080/"
        },
        "id": "_HekczluKCZm",
        "outputId": "00a63889-9562-46f1-dfea-88b2cfcd4bf8"
      },
      "execution_count": null,
      "outputs": [
        {
          "output_type": "stream",
          "name": "stdout",
          "text": [
            "[1, 4, 9, 16, 25]\n"
          ]
        }
      ]
    }
  ]
}